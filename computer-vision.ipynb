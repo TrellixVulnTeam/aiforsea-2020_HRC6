{
 "cells": [
  {
   "cell_type": "code",
   "execution_count": null,
   "metadata": {},
   "outputs": [],
   "source": [
    "import numpy as np\n",
    "\n",
    "from scipy.io import loadmat\n",
    "\n",
    "from keras.models import Model\n",
    "from keras.layers import Dense\n",
    "from keras.preprocessing.image import ImageDataGenerator\n",
    "from keras.applications.inception_v3 import InceptionV3"
   ]
  },
  {
   "cell_type": "code",
   "execution_count": 12,
   "metadata": {},
   "outputs": [],
   "source": [
    "import os\n",
    "import numpy as np\n",
    "import pandas as pd\n",
    "\n",
    "from scipy.io import loadmat\n",
    "\n",
    "matlab_data = loadmat(os.path.join(os.curdir, 'devkit', 'cars_train_annos'))['annotations'][0, :]\n",
    "annotations = np.stack([np.concatenate([array.ravel() for array in row])[4:] for row in matlab_data])\n",
    "train_data = pd.DataFrame(annotations, columns=['target', 'filename'])\n",
    "train_data['target'] = train_data['target'].astype(int)\n",
    "train_data['filename'] = '0' + train_data['filename']"
   ]
  },
  {
   "cell_type": "code",
   "execution_count": 54,
   "metadata": {
    "scrolled": true
   },
   "outputs": [
    {
     "name": "stdout",
     "output_type": "stream",
     "text": [
      "Found 8144 validated image filenames belonging to 196 classes.\n"
     ]
    }
   ],
   "source": [
    "train_data_generator = ImageDataGenerator().flow_from_dataframe(train_data, directory='car_ims', x_col='filename', y_col='target', class_mode='sparse', seed=0)"
   ]
  },
  {
   "cell_type": "code",
   "execution_count": 55,
   "metadata": {},
   "outputs": [],
   "source": [
    "inception_v3 = InceptionV3(include_top=False, pooling='max')\n",
    "\n",
    "model = Model(inputs=inception_v3.input, outputs=Dense(196, activation='softmax')(inception_v3.output))\n",
    "\n",
    "model.compile('adam', loss='sparse_categorical_crossentropy')"
   ]
  },
  {
   "cell_type": "code",
   "execution_count": null,
   "metadata": {},
   "outputs": [
    {
     "name": "stdout",
     "output_type": "stream",
     "text": [
      "Epoch 1/1\n"
     ]
    }
   ],
   "source": [
    "model.fit_generator(train_data_generator, steps_per_epoch=10)"
   ]
  }
 ],
 "metadata": {
  "kernelspec": {
   "display_name": "Python 3",
   "language": "python",
   "name": "python3"
  },
  "language_info": {
   "codemirror_mode": {
    "name": "ipython",
    "version": 3
   },
   "file_extension": ".py",
   "mimetype": "text/x-python",
   "name": "python",
   "nbconvert_exporter": "python",
   "pygments_lexer": "ipython3",
   "version": "3.7.3"
  }
 },
 "nbformat": 4,
 "nbformat_minor": 2
}
